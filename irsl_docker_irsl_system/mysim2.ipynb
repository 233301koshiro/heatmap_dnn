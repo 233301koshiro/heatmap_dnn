{
 "cells": [
  {
   "cell_type": "code",
   "execution_count": 1,
   "id": "64309eb1-bcfd-4049-b4ae-bcac9ade04f6",
   "metadata": {},
   "outputs": [],
   "source": [
    "exec(open('/choreonoid_ws/install/share/irsl_choreonoid/sample/irsl_import.py').read())\n"
   ]
  },
  {
   "cell_type": "code",
   "execution_count": 2,
   "id": "eeead15b-e777-4232-99dc-23db4b2615d9",
   "metadata": {},
   "outputs": [],
   "source": [
    "## simulation 用のロボットモデル\n",
    "wd=ib.getOrAddWorld(name='World')\n",
    "s_itm=ib.loadRobotItem('graph_robot.body', world=wd)\n",
    "s_robot=RobotModel(s_itm)\n",
    "s_robot.robot.rootLink.setJointType(cbody.Link.FixedJoint)\n"
   ]
  },
  {
   "cell_type": "code",
   "execution_count": 3,
   "id": "3f4a35f8-c026-4f0f-b806-75d018a05e84",
   "metadata": {},
   "outputs": [
    {
     "data": {
      "text/plain": [
       "<cnoid.BodyPlugin.BodyItem object at 0x7cd5ffcc32b0>\n",
       "\n",
       "<irsl_choreonoid_ros.setup_cnoid.SetupCnoid object at 0x7cd5f6b69940>"
      ]
     },
     "execution_count": 3,
     "metadata": {},
     "output_type": "execute_result"
    }
   ],
   "source": [
    "ib.loadRobotItem(cutil.getShareDirectory() + '/model/misc/floor.body')\n",
    "SetupCnoid.setEnvironmentFromYaml('world.yaml', world='World')"
   ]
  },
  {
   "cell_type": "code",
   "execution_count": null,
   "id": "2e10bd05-241c-4c2a-bbe2-4e995f7a8b8b",
   "metadata": {},
   "outputs": [],
   "source": []
  },
  {
   "cell_type": "code",
   "execution_count": 4,
   "id": "30015a0c-5a45-45d0-b71f-dff31a1e18ba",
   "metadata": {},
   "outputs": [
    {
     "data": {
      "text/plain": [
       "<cnoid.BodyPlugin.BodyItem object at 0x7646f42b9d70>"
      ]
     },
     "execution_count": 4,
     "metadata": {},
     "output_type": "execute_result"
    }
   ],
   "source": [
    "## 表示用(IK用)のロボットモデル\n",
    "md=ib.getOrAddWorld(name='Model')\n",
    "itm=ib.loadRobotItem('graph_robot.body', world=md)\n",
    "robot=RobotModel(itm)\n",
    "ib.loadRobotItem(cutil.getShareDirectory() + '/model/misc/floor.body')\n",
    "lst=robot.jointNames\n",
    "robot.registerEndEffector('arm', 'L2', tip_link_to_eef=coordinates(fv(0, 0, 2)), joint_list=lst[0:lst.index('L2')+1])"
   ]
  },
  {
   "cell_type": "code",
   "execution_count": null,
   "id": "2c92e472-473a-407c-b355-17268dfdf26d",
   "metadata": {},
   "outputs": [],
   "source": []
  },
  {
   "cell_type": "code",
   "execution_count": 5,
   "id": "e6218093-cf30-4ad2-90c4-70cdc5a92223",
   "metadata": {},
   "outputs": [
    {
     "data": {
      "text/plain": [
       "Wrap: <coordinates[0x56f809033970] 0 0 7 / 0 0 0 1 > | <cnoid.Util.SgPosTransform object at 0x7646f43a34b0>"
      ]
     },
     "execution_count": 5,
     "metadata": {},
     "output_type": "execute_result"
    }
   ],
   "source": [
    "### エンドエフェクタの表示\n",
    "di=DrawInterface()\n",
    "eef=mkshapes.makeCoords()\n",
    "#eef.newcoords(robot.link('L2').getCoords())\n",
    "eef.newcoords(robot.arm.endEffector)\n",
    "robot.assoc(eef, robot.link('L2'))\n",
    "di.addObject(eef)"
   ]
  },
  {
   "cell_type": "code",
   "execution_count": 6,
   "id": "8d6dcb98-7cf0-4c1d-86f9-289d47545a3f",
   "metadata": {},
   "outputs": [
    {
     "data": {
      "text/plain": [
       "True"
      ]
     },
     "execution_count": 6,
     "metadata": {},
     "output_type": "execute_result"
    }
   ],
   "source": [
    "#パカツ\n",
    "robot.setDefaultPose()\n",
    "angle_map={'L8_bally':1.57,'L10_bally':-1.57,'L7_bally':-1.0,'L9_bally':1.2,}\n",
    "robot.setAngleMap(angle_map)"
   ]
  },
  {
   "cell_type": "code",
   "execution_count": 7,
   "id": "6f5a9eb9-8395-4a38-8b35-fd9a49f40a32",
   "metadata": {},
   "outputs": [
    {
     "data": {
      "text/plain": [
       "Wrap: <coordinates[0x56f8090b1bc0] 0 0 0 / 1 0 0 6.12323e-17 > | <cnoid.Util.SgPosTransform object at 0x7646f43a8e30>\n",
       "\n",
       "Wrap: <coordinates[0x56f8090b1bc0] -2.5 2 1 / 1 0 0 6.12323e-17 > | <cnoid.Util.SgPosTransform object at 0x7646f43a8e30>"
      ]
     },
     "execution_count": 7,
     "metadata": {},
     "output_type": "execute_result"
    }
   ],
   "source": [
    "### IK ターゲットの表示\n",
    "cds=mkshapes.makeCoords()\n",
    "cds.rotate(PI, coordinates.X)\n",
    "cds.locate(fv(-2.5, 2, 1), coordinates.wrt.world)\n",
    "#di.addObject(cds)"
   ]
  },
  {
   "cell_type": "code",
   "execution_count": 8,
   "id": "a611f374-ab46-4238-bb04-302a58592ed9",
   "metadata": {},
   "outputs": [
    {
     "data": {
      "text/plain": [
       "(True, 100)"
      ]
     },
     "execution_count": 8,
     "metadata": {},
     "output_type": "execute_result"
    }
   ],
   "source": [
    "### inverse-kinematics (すべて拘束された)\n",
    "robot.inverseKinematics(cds, addNoise=True)\n",
    "itm.setChecked(False) ##\n",
    "\n",
    "#itm.setChecked(True) ##\n",
    "\n"
   ]
  },
  {
   "cell_type": "code",
   "execution_count": 9,
   "id": "abbb0c2f-3882-450d-aea0-f3d39f8297c5",
   "metadata": {},
   "outputs": [],
   "source": [
    "## simulation\n",
    "from irsl_choreonoid.simulation_utils import SimulationEnvironment\n",
    "sim = SimulationEnvironment('BodyBuilder')"
   ]
  },
  {
   "cell_type": "code",
   "execution_count": 10,
   "id": "7c2188c4-590d-418c-a998-7a1e35d16541",
   "metadata": {},
   "outputs": [],
   "source": [
    "sim.stop()"
   ]
  },
  {
   "cell_type": "code",
   "execution_count": 11,
   "id": "f794d9b5-813c-423f-9257-ca6b2c216879",
   "metadata": {},
   "outputs": [],
   "source": [
    "## ちょっとましに動いているように見える\n",
    "sim.start(generatePDSettings=True, weightP=0.2, weightD=1.0, updateRotorInertia=True) ##\n",
    "\n",
    "sim.sendAngleVector(robot.angleVector(), 5.0)\n",
    "\n",
    "#sim.run(10)"
   ]
  },
  {
   "cell_type": "code",
   "execution_count": 12,
   "id": "650bc1d3-451c-4f57-8246-50fdf7c7230c",
   "metadata": {},
   "outputs": [],
   "source": [
    "sim.run(5)#真上で止まる"
   ]
  },
  {
   "cell_type": "code",
   "execution_count": 13,
   "id": "76aa0c95-178d-4d24-a312-2eab2ba8f5cb",
   "metadata": {},
   "outputs": [
    {
     "data": {
      "text/plain": [
       "(True, 0)"
      ]
     },
     "execution_count": 13,
     "metadata": {},
     "output_type": "execute_result"
    }
   ],
   "source": [
    "### inverse-kinematics (すべて拘束された)\n",
    "robot.inverseKinematics(cds, addNoise=True)\n",
    "itm.setChecked(False) ##\n",
    "\n",
    "#itm.setChecked(True) ##\n",
    "sim.sendAngleVector(robot.angleVector(), 5.0)\n",
    "\n",
    "sim.run(5)"
   ]
  },
  {
   "cell_type": "code",
   "execution_count": 14,
   "id": "da86f5fb-8030-4e57-b78f-bd0d4ef5c106",
   "metadata": {},
   "outputs": [
    {
     "data": {
      "text/plain": [
       "Wrap: <coordinates[0x56f8090b1bc0] -2.5 2 0.2 / 1 0 0 6.12323e-17 > | <cnoid.Util.SgPosTransform object at 0x7646f43a8e30>"
      ]
     },
     "execution_count": 14,
     "metadata": {},
     "output_type": "execute_result"
    }
   ],
   "source": [
    "cds.locate(fv(0, 0, 0.8))\n",
    "#di.addObject(cds)"
   ]
  },
  {
   "cell_type": "code",
   "execution_count": 15,
   "id": "c706cfb7-2059-4049-aa43-31bd35b43067",
   "metadata": {},
   "outputs": [
    {
     "data": {
      "text/plain": [
       "(True, 9)"
      ]
     },
     "execution_count": 15,
     "metadata": {},
     "output_type": "execute_result"
    }
   ],
   "source": [
    "### inverse-kinematics (すべて拘束された)\n",
    "robot.inverseKinematics(cds, addNoise=True)\n",
    "itm.setChecked(False) ##\n",
    "\n",
    "#itm.setChecked(True) ##\n",
    "sim.sendAngleVector(robot.angleVector(), 5.0)\n",
    "\n",
    "sim.run(5)"
   ]
  },
  {
   "cell_type": "code",
   "execution_count": 16,
   "id": "0b997975-f7dc-4318-a4c0-f1659f13aed0",
   "metadata": {},
   "outputs": [
    {
     "data": {
      "text/plain": [
       "True"
      ]
     },
     "execution_count": 16,
     "metadata": {},
     "output_type": "execute_result"
    }
   ],
   "source": [
    "angle_map={'L8_bally':1.57,'L10_bally':-1.57,'L7_bally':-1.8,'L9_bally':1.8,}\n",
    "robot.setAngleMap(angle_map)\n",
    "sim.sendAngleVector(robot.angleVector(), 5.0)\n",
    "sim.run(5)"
   ]
  },
  {
   "cell_type": "code",
   "execution_count": 17,
   "id": "65b54fd2-a2ae-4645-8167-71048fee6695",
   "metadata": {},
   "outputs": [
    {
     "data": {
      "text/plain": [
       "Wrap: <coordinates[0x56f8090b1bc0] -1.5 1 2.2 / 1 0 0 6.12323e-17 > | <cnoid.Util.SgPosTransform object at 0x7646f43a8e30>"
      ]
     },
     "execution_count": 17,
     "metadata": {},
     "output_type": "execute_result"
    }
   ],
   "source": [
    "cds.locate(fv(1, 1, -2))\n",
    "#di.addObject(cds)"
   ]
  },
  {
   "cell_type": "code",
   "execution_count": 18,
   "id": "b4691c10-5910-4ba6-abf4-34c88ae9dae4",
   "metadata": {},
   "outputs": [
    {
     "data": {
      "text/plain": [
       "(True, 22)"
      ]
     },
     "execution_count": 18,
     "metadata": {},
     "output_type": "execute_result"
    }
   ],
   "source": [
    "### inverse-kinematics (すべて拘束された)\n",
    "robot.inverseKinematics(cds, addNoise=True)\n",
    "itm.setChecked(False) ##\n",
    "\n",
    "#itm.setChecked(True) ##\n",
    "sim.sendAngleVector(robot.angleVector(), 5.0)\n"
   ]
  },
  {
   "cell_type": "code",
   "execution_count": 19,
   "id": "80257ceb-be42-4d9b-a386-6b7ce0f5ea36",
   "metadata": {},
   "outputs": [],
   "source": [
    "sim.run(5)"
   ]
  },
  {
   "cell_type": "code",
   "execution_count": null,
   "id": "4c444d0a-04d7-449b-8a6c-e354de323456",
   "metadata": {},
   "outputs": [],
   "source": []
  },
  {
   "cell_type": "code",
   "execution_count": null,
   "id": "e10c6a2a-4ff2-4008-9498-6c8d9f9a8fd3",
   "metadata": {},
   "outputs": [],
   "source": []
  },
  {
   "cell_type": "code",
   "execution_count": null,
   "id": "9533b105-cad4-457d-abfb-317b35e4dca4",
   "metadata": {},
   "outputs": [],
   "source": []
  },
  {
   "cell_type": "code",
   "execution_count": null,
   "id": "803b8b5f-0a01-4874-9c0e-0d8fe838ac2e",
   "metadata": {},
   "outputs": [],
   "source": []
  },
  {
   "cell_type": "code",
   "execution_count": null,
   "id": "4ea1a313-9dae-413a-be5b-2ce88aa850bd",
   "metadata": {},
   "outputs": [],
   "source": []
  },
  {
   "cell_type": "code",
   "execution_count": null,
   "id": "8a46f422-b69f-44cc-94a4-a5fcf6eb7c1a",
   "metadata": {},
   "outputs": [],
   "source": []
  },
  {
   "cell_type": "code",
   "execution_count": null,
   "id": "50d01062-e6ea-4d1a-990c-d1d65646cbe3",
   "metadata": {},
   "outputs": [],
   "source": []
  },
  {
   "cell_type": "code",
   "execution_count": null,
   "id": "f2cf2c44-67b2-4253-bfb8-354e63d3b605",
   "metadata": {},
   "outputs": [],
   "source": []
  },
  {
   "cell_type": "code",
   "execution_count": null,
   "id": "d52ea9c2-8e82-440b-8221-fb7bf0b2d297",
   "metadata": {},
   "outputs": [],
   "source": []
  }
 ],
 "metadata": {
  "kernelspec": {
   "display_name": "Choreonoid",
   "language": "python",
   "name": "choreonoid"
  },
  "language_info": {
   "codemirror_mode": "",
   "file_extension": ".py",
   "mimetype": "text/x-python",
   "name": "python",
   "nbconvert_exporter": "",
   "pygments_lexer": "",
   "version": "3.7"
  }
 },
 "nbformat": 4,
 "nbformat_minor": 5
}
